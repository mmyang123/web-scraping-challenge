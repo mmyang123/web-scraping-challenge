{
 "cells": [
  {
   "cell_type": "code",
   "execution_count": 1,
   "metadata": {},
   "outputs": [],
   "source": [
    "import pandas as pd\n",
    "from selenium import webdriver\n",
    "from splinter import Browser\n",
    "from bs4 import BeautifulSoup as bs\n"
   ]
  },
  {
   "cell_type": "markdown",
   "metadata": {},
   "source": [
    "### Website Scraping from https://redplanetscience.com"
   ]
  },
  {
   "cell_type": "code",
   "execution_count": 2,
   "metadata": {},
   "outputs": [],
   "source": [
    "#browser = webdriver.Chrome()\n",
    "#browser.get('https://redplanetscience.com')\n",
    "redplanetsceience_browser = Browser('chrome', headless=True)\n",
    "redplanetsceience_browser.visit('https://redplanetscience.com')"
   ]
  },
  {
   "cell_type": "code",
   "execution_count": 3,
   "metadata": {},
   "outputs": [],
   "source": [
    "# Create a Beautiful Soup object\n",
    "#soup = bs(browser.page_source, 'html.parser')\n",
    "soup = bs(redplanetsceience_browser.html, 'html.parser')"
   ]
  },
  {
   "cell_type": "code",
   "execution_count": 4,
   "metadata": {},
   "outputs": [],
   "source": [
    "redplanetsceience_divImg = soup.find_all('div', {'class': 'list_image'})\n",
    "#divImg"
   ]
  },
  {
   "cell_type": "code",
   "execution_count": 5,
   "metadata": {},
   "outputs": [],
   "source": [
    "redplanetsceience_divDate = soup.find_all('div', {'class': 'list_date'})\n",
    "#divDate"
   ]
  },
  {
   "cell_type": "code",
   "execution_count": 6,
   "metadata": {},
   "outputs": [],
   "source": [
    "redplanetsceience_divContentTitle = soup.find_all('div', {'class': 'content_title'})\n",
    "#divContentTitle"
   ]
  },
  {
   "cell_type": "code",
   "execution_count": 7,
   "metadata": {},
   "outputs": [],
   "source": [
    "redplanetsceience_divArticleText = soup.find_all('div', {'class': 'article_teaser_body'})\n",
    "#divArticleText"
   ]
  },
  {
   "cell_type": "code",
   "execution_count": 8,
   "metadata": {},
   "outputs": [],
   "source": [
    "redplanetsceience_column_names = [\"ArticleTitle\",\"ArticleDate\",\"SummaryText\",\"Image\"]\n",
    "redplanetscience_df = pd.DataFrame(columns = redplanetsceience_column_names)"
   ]
  },
  {
   "cell_type": "code",
   "execution_count": 9,
   "metadata": {},
   "outputs": [
    {
     "data": {
      "text/html": [
       "<div>\n",
       "<style scoped>\n",
       "    .dataframe tbody tr th:only-of-type {\n",
       "        vertical-align: middle;\n",
       "    }\n",
       "\n",
       "    .dataframe tbody tr th {\n",
       "        vertical-align: top;\n",
       "    }\n",
       "\n",
       "    .dataframe thead th {\n",
       "        text-align: right;\n",
       "    }\n",
       "</style>\n",
       "<table border=\"1\" class=\"dataframe\">\n",
       "  <thead>\n",
       "    <tr style=\"text-align: right;\">\n",
       "      <th></th>\n",
       "      <th>ArticleTitle</th>\n",
       "      <th>ArticleDate</th>\n",
       "      <th>SummaryText</th>\n",
       "      <th>Image</th>\n",
       "    </tr>\n",
       "  </thead>\n",
       "  <tbody>\n",
       "    <tr>\n",
       "      <th>0</th>\n",
       "      <td>NASA's Curiosity Mars Rover Takes a New Selfie...</td>\n",
       "      <td>September 27, 2022</td>\n",
       "      <td>Along with capturing an image before its steep...</td>\n",
       "      <td>https://mars.nasa.gov/system/news_items/list_v...</td>\n",
       "    </tr>\n",
       "    <tr>\n",
       "      <th>1</th>\n",
       "      <td>Deadline Closing for Names to Fly on NASA's Ne...</td>\n",
       "      <td>September 26, 2022</td>\n",
       "      <td>You have until Sept. 30 to send your names to ...</td>\n",
       "      <td>https://mars.nasa.gov/system/news_items/list_v...</td>\n",
       "    </tr>\n",
       "    <tr>\n",
       "      <th>2</th>\n",
       "      <td>NASA's Perseverance Rover Mission Getting in S...</td>\n",
       "      <td>September 26, 2022</td>\n",
       "      <td>Stacking spacecraft components on top of each ...</td>\n",
       "      <td>https://mars.nasa.gov/system/news_items/list_v...</td>\n",
       "    </tr>\n",
       "    <tr>\n",
       "      <th>3</th>\n",
       "      <td>Celebrate Mars Reconnaissance Orbiter's Views ...</td>\n",
       "      <td>September 20, 2022</td>\n",
       "      <td>Marking its 15th anniversary since launch, one...</td>\n",
       "      <td>https://mars.nasa.gov/system/news_items/list_v...</td>\n",
       "    </tr>\n",
       "    <tr>\n",
       "      <th>4</th>\n",
       "      <td>NASA to Hold Mars 2020 Perseverance Rover Laun...</td>\n",
       "      <td>September 19, 2022</td>\n",
       "      <td>Learn more about the agency's next Red Planet ...</td>\n",
       "      <td>https://mars.nasa.gov/system/news_items/list_v...</td>\n",
       "    </tr>\n",
       "    <tr>\n",
       "      <th>5</th>\n",
       "      <td>The Launch Is Approaching for NASA's Next Mars...</td>\n",
       "      <td>September 13, 2022</td>\n",
       "      <td>The Red Planet's surface has been visited by e...</td>\n",
       "      <td>https://mars.nasa.gov/system/news_items/list_v...</td>\n",
       "    </tr>\n",
       "    <tr>\n",
       "      <th>6</th>\n",
       "      <td>NASA's Curiosity Keeps Rolling As Team Operate...</td>\n",
       "      <td>September 11, 2022</td>\n",
       "      <td>The team has learned to meet new challenges as...</td>\n",
       "      <td>https://mars.nasa.gov/system/news_items/list_v...</td>\n",
       "    </tr>\n",
       "    <tr>\n",
       "      <th>7</th>\n",
       "      <td>Mars 2020 Stands on Its Own Six Wheels</td>\n",
       "      <td>September 10, 2022</td>\n",
       "      <td>In time-lapse video, taken at JPL, captures th...</td>\n",
       "      <td>https://mars.nasa.gov/system/news_items/list_v...</td>\n",
       "    </tr>\n",
       "    <tr>\n",
       "      <th>8</th>\n",
       "      <td>Hear Audio From NASA's Perseverance As It Trav...</td>\n",
       "      <td>September 9, 2022</td>\n",
       "      <td>The first to be rigged with microphones, the a...</td>\n",
       "      <td>https://mars.nasa.gov/system/news_items/list_v...</td>\n",
       "    </tr>\n",
       "    <tr>\n",
       "      <th>9</th>\n",
       "      <td>6 Things to Know About NASA's Ingenuity Mars H...</td>\n",
       "      <td>September 8, 2022</td>\n",
       "      <td>The first helicopter attempting to fly on anot...</td>\n",
       "      <td>https://mars.nasa.gov/system/news_items/list_v...</td>\n",
       "    </tr>\n",
       "    <tr>\n",
       "      <th>10</th>\n",
       "      <td>Media Get a Close-Up of NASA's Mars 2020 Rover</td>\n",
       "      <td>September 7, 2022</td>\n",
       "      <td>The clean room at NASA's Jet Propulsion Labora...</td>\n",
       "      <td>https://mars.nasa.gov/system/news_items/list_v...</td>\n",
       "    </tr>\n",
       "    <tr>\n",
       "      <th>11</th>\n",
       "      <td>Naming a NASA Mars Rover Can Change Your Life</td>\n",
       "      <td>September 7, 2022</td>\n",
       "      <td>Want to name the robotic scientist NASA is sen...</td>\n",
       "      <td>https://mars.nasa.gov/system/news_items/list_v...</td>\n",
       "    </tr>\n",
       "    <tr>\n",
       "      <th>12</th>\n",
       "      <td>NASA Adds Return Sample Scientists to Mars 202...</td>\n",
       "      <td>September 7, 2022</td>\n",
       "      <td>The leadership council for Mars 2020 science a...</td>\n",
       "      <td>https://mars.nasa.gov/system/news_items/list_v...</td>\n",
       "    </tr>\n",
       "    <tr>\n",
       "      <th>13</th>\n",
       "      <td>Screening Soon: 'The Pathfinders' Trains Lens ...</td>\n",
       "      <td>September 6, 2022</td>\n",
       "      <td>With the Mars 2020 mission ramping up, the doc...</td>\n",
       "      <td>https://mars.nasa.gov/system/news_items/list_v...</td>\n",
       "    </tr>\n",
       "    <tr>\n",
       "      <th>14</th>\n",
       "      <td>NASA Administrator Statement on Moon to Mars I...</td>\n",
       "      <td>September 4, 2022</td>\n",
       "      <td>Jim Bridenstine addresses NASA's ambitious pla...</td>\n",
       "      <td>https://mars.nasa.gov/system/news_items/list_v...</td>\n",
       "    </tr>\n",
       "  </tbody>\n",
       "</table>\n",
       "</div>"
      ],
      "text/plain": [
       "                                         ArticleTitle         ArticleDate  \\\n",
       "0   NASA's Curiosity Mars Rover Takes a New Selfie...  September 27, 2022   \n",
       "1   Deadline Closing for Names to Fly on NASA's Ne...  September 26, 2022   \n",
       "2   NASA's Perseverance Rover Mission Getting in S...  September 26, 2022   \n",
       "3   Celebrate Mars Reconnaissance Orbiter's Views ...  September 20, 2022   \n",
       "4   NASA to Hold Mars 2020 Perseverance Rover Laun...  September 19, 2022   \n",
       "5   The Launch Is Approaching for NASA's Next Mars...  September 13, 2022   \n",
       "6   NASA's Curiosity Keeps Rolling As Team Operate...  September 11, 2022   \n",
       "7              Mars 2020 Stands on Its Own Six Wheels  September 10, 2022   \n",
       "8   Hear Audio From NASA's Perseverance As It Trav...   September 9, 2022   \n",
       "9   6 Things to Know About NASA's Ingenuity Mars H...   September 8, 2022   \n",
       "10     Media Get a Close-Up of NASA's Mars 2020 Rover   September 7, 2022   \n",
       "11      Naming a NASA Mars Rover Can Change Your Life   September 7, 2022   \n",
       "12  NASA Adds Return Sample Scientists to Mars 202...   September 7, 2022   \n",
       "13  Screening Soon: 'The Pathfinders' Trains Lens ...   September 6, 2022   \n",
       "14  NASA Administrator Statement on Moon to Mars I...   September 4, 2022   \n",
       "\n",
       "                                          SummaryText  \\\n",
       "0   Along with capturing an image before its steep...   \n",
       "1   You have until Sept. 30 to send your names to ...   \n",
       "2   Stacking spacecraft components on top of each ...   \n",
       "3   Marking its 15th anniversary since launch, one...   \n",
       "4   Learn more about the agency's next Red Planet ...   \n",
       "5   The Red Planet's surface has been visited by e...   \n",
       "6   The team has learned to meet new challenges as...   \n",
       "7   In time-lapse video, taken at JPL, captures th...   \n",
       "8   The first to be rigged with microphones, the a...   \n",
       "9   The first helicopter attempting to fly on anot...   \n",
       "10  The clean room at NASA's Jet Propulsion Labora...   \n",
       "11  Want to name the robotic scientist NASA is sen...   \n",
       "12  The leadership council for Mars 2020 science a...   \n",
       "13  With the Mars 2020 mission ramping up, the doc...   \n",
       "14  Jim Bridenstine addresses NASA's ambitious pla...   \n",
       "\n",
       "                                                Image  \n",
       "0   https://mars.nasa.gov/system/news_items/list_v...  \n",
       "1   https://mars.nasa.gov/system/news_items/list_v...  \n",
       "2   https://mars.nasa.gov/system/news_items/list_v...  \n",
       "3   https://mars.nasa.gov/system/news_items/list_v...  \n",
       "4   https://mars.nasa.gov/system/news_items/list_v...  \n",
       "5   https://mars.nasa.gov/system/news_items/list_v...  \n",
       "6   https://mars.nasa.gov/system/news_items/list_v...  \n",
       "7   https://mars.nasa.gov/system/news_items/list_v...  \n",
       "8   https://mars.nasa.gov/system/news_items/list_v...  \n",
       "9   https://mars.nasa.gov/system/news_items/list_v...  \n",
       "10  https://mars.nasa.gov/system/news_items/list_v...  \n",
       "11  https://mars.nasa.gov/system/news_items/list_v...  \n",
       "12  https://mars.nasa.gov/system/news_items/list_v...  \n",
       "13  https://mars.nasa.gov/system/news_items/list_v...  \n",
       "14  https://mars.nasa.gov/system/news_items/list_v...  "
      ]
     },
     "execution_count": 9,
     "metadata": {},
     "output_type": "execute_result"
    }
   ],
   "source": [
    "redplanetscience_list = []\n",
    "for idx in range(len(redplanetsceience_divImg)):\n",
    "    new_row = [redplanetsceience_divContentTitle[idx].text,redplanetsceience_divDate[idx].text,redplanetsceience_divArticleText[idx].text,redplanetsceience_divImg[idx].img['src']]\n",
    "    new_row_dict = {'ArticleTitle':redplanetsceience_divContentTitle[idx].text,'ArticleDate':redplanetsceience_divDate[idx].text,\n",
    "                    'SummaryText':redplanetsceience_divArticleText[idx].text,'Image':redplanetsceience_divImg[idx].img['src']}\n",
    "    \n",
    "    # Use loc to add new rows\n",
    "    redplanetscience_df.loc[idx] = new_row\n",
    "    redplanetscience_list.append(new_row_dict)\n",
    "    \n",
    "redplanetscience_df"
   ]
  },
  {
   "cell_type": "code",
   "execution_count": 10,
   "metadata": {},
   "outputs": [
    {
     "data": {
      "text/plain": [
       "[{'ArticleTitle': \"NASA's Curiosity Mars Rover Takes a New Selfie Before Record Climb\",\n",
       "  'ArticleDate': 'September 27, 2022',\n",
       "  'SummaryText': 'Along with capturing an image before its steepest ascent ever, the robotic explorer filmed its \"selfie stick,\" or robotic arm, in action.',\n",
       "  'Image': 'https://mars.nasa.gov/system/news_items/list_view_images/8631_PIA23624_hutton-selfie-320x240.jpg'},\n",
       " {'ArticleTitle': \"Deadline Closing for Names to Fly on NASA's Next Mars Rover\",\n",
       "  'ArticleDate': 'September 26, 2022',\n",
       "  'SummaryText': 'You have until Sept. 30 to send your names to Mars aboard the Mars 2020 rover. ',\n",
       "  'Image': 'https://mars.nasa.gov/system/news_items/list_view_images/8511_PIA23279-226.jpg'},\n",
       " {'ArticleTitle': \"NASA's Perseverance Rover Mission Getting in Shape for Launch\",\n",
       "  'ArticleDate': 'September 26, 2022',\n",
       "  'SummaryText': 'Stacking spacecraft components on top of each other is one of the final assembly steps before a mission launches to the Red Planet. ',\n",
       "  'Image': 'https://mars.nasa.gov/system/news_items/list_view_images/8657_1-PIA23884-320x240.jpg'},\n",
       " {'ArticleTitle': \"Celebrate Mars Reconnaissance Orbiter's Views From Above\",\n",
       "  'ArticleDate': 'September 20, 2022',\n",
       "  'SummaryText': 'Marking its 15th anniversary since launch, one of the oldest spacecraft at the Red Planet has provided glimpses of dust devils, avalanches, and more.',\n",
       "  'Image': 'https://mars.nasa.gov/system/news_items/list_view_images/8735_collage-320.jpg'},\n",
       " {'ArticleTitle': 'NASA to Hold Mars 2020 Perseverance Rover Launch Briefing',\n",
       "  'ArticleDate': 'September 19, 2022',\n",
       "  'SummaryText': \"Learn more about the agency's next Red Planet mission during a live event on June 17.\",\n",
       "  'Image': 'https://mars.nasa.gov/system/news_items/list_view_images/8692_PIA23920-320x240.jpg'},\n",
       " {'ArticleTitle': \"The Launch Is Approaching for NASA's Next Mars Rover, Perseverance\",\n",
       "  'ArticleDate': 'September 13, 2022',\n",
       "  'SummaryText': \"The Red Planet's surface has been visited by eight NASA spacecraft. The ninth will be the first that includes a roundtrip ticket in its flight plan. \",\n",
       "  'Image': 'https://mars.nasa.gov/system/news_items/list_view_images/8695_24732_PIA23499-226.jpg'},\n",
       " {'ArticleTitle': \"NASA's Curiosity Keeps Rolling As Team Operates Rover From Home\",\n",
       "  'ArticleDate': 'September 11, 2022',\n",
       "  'SummaryText': 'The team has learned to meet new challenges as they work remotely on the Mars mission.',\n",
       "  'Image': 'https://mars.nasa.gov/system/news_items/list_view_images/8647_PIA23773-32x24.jpg'},\n",
       " {'ArticleTitle': 'Mars 2020 Stands on Its Own Six Wheels',\n",
       "  'ArticleDate': 'September 10, 2022',\n",
       "  'SummaryText': \"In time-lapse video, taken at JPL, captures the first time NASA's Mars 2020 rover carries its full weight on its legs and wheels.\",\n",
       "  'Image': 'https://mars.nasa.gov/system/news_items/list_view_images/8537_PIA23468-16_320x240px.jpg'},\n",
       " {'ArticleTitle': \"Hear Audio From NASA's Perseverance As It Travels Through Deep Space\",\n",
       "  'ArticleDate': 'September 9, 2022',\n",
       "  'SummaryText': \"The first to be rigged with microphones, the agency's latest Mars rover picked up the subtle sounds of its own inner workings during interplanetary flight.\",\n",
       "  'Image': 'https://mars.nasa.gov/system/news_items/list_view_images/8801_20201118_mars2020-320x240.jpg'},\n",
       " {'ArticleTitle': \"6 Things to Know About NASA's Ingenuity Mars Helicopter\",\n",
       "  'ArticleDate': 'September 8, 2022',\n",
       "  'SummaryText': 'The first helicopter attempting to fly on another planet is a marvel of engineering. Get up to speed with these key facts about its plans.',\n",
       "  'Image': 'https://mars.nasa.gov/system/news_items/list_view_images/8712_PIA23720-320x240.jpg'},\n",
       " {'ArticleTitle': \"Media Get a Close-Up of NASA's Mars 2020 Rover\",\n",
       "  'ArticleDate': 'September 7, 2022',\n",
       "  'SummaryText': \"The clean room at NASA's Jet Propulsion Laboratory was open to the media to see NASA's next Mars explorer before it leaves for Florida in preparation for a summertime launch.\",\n",
       "  'Image': 'https://mars.nasa.gov/system/news_items/list_view_images/8578_24741_PIA23586-SAFfloor-MAIN-16_320x240px.jpg'},\n",
       " {'ArticleTitle': 'Naming a NASA Mars Rover Can Change Your Life',\n",
       "  'ArticleDate': 'September 7, 2022',\n",
       "  'SummaryText': 'Want to name the robotic scientist NASA is sending to Mars in 2020? The student who named Curiosity — the rover currently exploring Mars — will tell you this is an opportunity worth taking.',\n",
       "  'Image': 'https://mars.nasa.gov/system/news_items/list_view_images/8534_20191022_ClaraMa_compare-320x240.jpg'},\n",
       " {'ArticleTitle': 'NASA Adds Return Sample Scientists to Mars 2020 Leadership Team',\n",
       "  'ArticleDate': 'September 7, 2022',\n",
       "  'SummaryText': 'The leadership council for Mars 2020 science added two new members who represent the interests of scientists destined to handle and study the first samples from Red Planet.',\n",
       "  'Image': 'https://mars.nasa.gov/system/news_items/list_view_images/8611_PIA22111-320x240.jpg'},\n",
       " {'ArticleTitle': \"Screening Soon: 'The Pathfinders' Trains Lens on Mars\",\n",
       "  'ArticleDate': 'September 6, 2022',\n",
       "  'SummaryText': 'With the Mars 2020 mission ramping up, the documentary — the first of four about past JPL missions to the Red Planet to be shown at Caltech — tells a gripping backstory.',\n",
       "  'Image': 'https://mars.nasa.gov/system/news_items/list_view_images/8544_Pathfinder-Background-320x240.jpg'},\n",
       " {'ArticleTitle': 'NASA Administrator Statement on Moon to Mars Initiative, FY 2021 Budget',\n",
       "  'ArticleDate': 'September 4, 2022',\n",
       "  'SummaryText': \"Jim Bridenstine addresses NASA's ambitious plans for the coming years, including Mars Sample Return.\",\n",
       "  'Image': 'https://mars.nasa.gov/system/news_items/list_view_images/8603_list_image.jpg'}]"
      ]
     },
     "execution_count": 10,
     "metadata": {},
     "output_type": "execute_result"
    }
   ],
   "source": [
    "redplanetscience_list"
   ]
  },
  {
   "cell_type": "markdown",
   "metadata": {},
   "source": [
    "### Website Scraping from https://spaceimages-mars.com/"
   ]
  },
  {
   "cell_type": "code",
   "execution_count": 11,
   "metadata": {},
   "outputs": [],
   "source": [
    "jpl_site_url = 'https://spaceimages-mars.com/'\n",
    "jpl_browser = Browser('chrome', headless=True)\n",
    "jpl_browser.visit(jpl_site_url)"
   ]
  },
  {
   "cell_type": "code",
   "execution_count": 12,
   "metadata": {},
   "outputs": [],
   "source": [
    "jpl_soup = bs(jpl_browser.html, 'html.parser')"
   ]
  },
  {
   "cell_type": "code",
   "execution_count": 13,
   "metadata": {},
   "outputs": [],
   "source": [
    "jpl_featured_images = jpl_soup.find_all('img',{'class': 'headerimage'})"
   ]
  },
  {
   "cell_type": "code",
   "execution_count": 14,
   "metadata": {},
   "outputs": [],
   "source": [
    "jpl_featured_image = jpl_site_url + jpl_featured_images[0]['src']\n"
   ]
  },
  {
   "cell_type": "code",
   "execution_count": 15,
   "metadata": {},
   "outputs": [
    {
     "data": {
      "text/plain": [
       "'https://spaceimages-mars.com/image/featured/mars2.jpg'"
      ]
     },
     "execution_count": 15,
     "metadata": {},
     "output_type": "execute_result"
    }
   ],
   "source": [
    "jpl_featured_image"
   ]
  },
  {
   "cell_type": "markdown",
   "metadata": {},
   "source": [
    "### Website Scraping from https://galaxyfacts-mars.com/"
   ]
  },
  {
   "cell_type": "code",
   "execution_count": 16,
   "metadata": {},
   "outputs": [],
   "source": [
    "mars_facts_browser = Browser('chrome', headless=True)\n",
    "mars_facts_browser.visit('https://galaxyfacts-mars.com/')"
   ]
  },
  {
   "cell_type": "code",
   "execution_count": 17,
   "metadata": {},
   "outputs": [],
   "source": [
    "mars_facts_df = pd.read_html(mars_facts_browser.html)"
   ]
  },
  {
   "cell_type": "code",
   "execution_count": 18,
   "metadata": {},
   "outputs": [
    {
     "data": {
      "text/html": [
       "<div>\n",
       "<style scoped>\n",
       "    .dataframe tbody tr th:only-of-type {\n",
       "        vertical-align: middle;\n",
       "    }\n",
       "\n",
       "    .dataframe tbody tr th {\n",
       "        vertical-align: top;\n",
       "    }\n",
       "\n",
       "    .dataframe thead th {\n",
       "        text-align: right;\n",
       "    }\n",
       "</style>\n",
       "<table border=\"1\" class=\"dataframe\">\n",
       "  <thead>\n",
       "    <tr style=\"text-align: right;\">\n",
       "      <th></th>\n",
       "      <th>0</th>\n",
       "      <th>1</th>\n",
       "      <th>2</th>\n",
       "    </tr>\n",
       "  </thead>\n",
       "  <tbody>\n",
       "    <tr>\n",
       "      <th>0</th>\n",
       "      <td>Mars - Earth Comparison</td>\n",
       "      <td>Mars</td>\n",
       "      <td>Earth</td>\n",
       "    </tr>\n",
       "    <tr>\n",
       "      <th>1</th>\n",
       "      <td>Diameter:</td>\n",
       "      <td>6,779 km</td>\n",
       "      <td>12,742 km</td>\n",
       "    </tr>\n",
       "    <tr>\n",
       "      <th>2</th>\n",
       "      <td>Mass:</td>\n",
       "      <td>6.39 × 10^23 kg</td>\n",
       "      <td>5.97 × 10^24 kg</td>\n",
       "    </tr>\n",
       "    <tr>\n",
       "      <th>3</th>\n",
       "      <td>Moons:</td>\n",
       "      <td>2</td>\n",
       "      <td>1</td>\n",
       "    </tr>\n",
       "    <tr>\n",
       "      <th>4</th>\n",
       "      <td>Distance from Sun:</td>\n",
       "      <td>227,943,824 km</td>\n",
       "      <td>149,598,262 km</td>\n",
       "    </tr>\n",
       "    <tr>\n",
       "      <th>5</th>\n",
       "      <td>Length of Year:</td>\n",
       "      <td>687 Earth days</td>\n",
       "      <td>365.24 days</td>\n",
       "    </tr>\n",
       "    <tr>\n",
       "      <th>6</th>\n",
       "      <td>Temperature:</td>\n",
       "      <td>-87 to -5 °C</td>\n",
       "      <td>-88 to 58°C</td>\n",
       "    </tr>\n",
       "  </tbody>\n",
       "</table>\n",
       "</div>"
      ],
      "text/plain": [
       "                         0                1                2\n",
       "0  Mars - Earth Comparison             Mars            Earth\n",
       "1                Diameter:         6,779 km        12,742 km\n",
       "2                    Mass:  6.39 × 10^23 kg  5.97 × 10^24 kg\n",
       "3                   Moons:                2                1\n",
       "4       Distance from Sun:   227,943,824 km   149,598,262 km\n",
       "5          Length of Year:   687 Earth days      365.24 days\n",
       "6             Temperature:     -87 to -5 °C      -88 to 58°C"
      ]
     },
     "execution_count": 18,
     "metadata": {},
     "output_type": "execute_result"
    }
   ],
   "source": [
    "earth_mars_facts_df = mars_facts_df[0]\n",
    "earth_mars_facts_df"
   ]
  },
  {
   "cell_type": "markdown",
   "metadata": {},
   "source": [
    "### Website Scraping from https://marshemispheres.com/"
   ]
  },
  {
   "cell_type": "code",
   "execution_count": 19,
   "metadata": {},
   "outputs": [],
   "source": [
    "mars_hemi_url = 'https://marshemispheres.com/'\n",
    "mars_hemi_browser = Browser('chrome', headless=True)\n",
    "mars_hemi_browser.visit(mars_hemi_url)"
   ]
  },
  {
   "cell_type": "code",
   "execution_count": 20,
   "metadata": {},
   "outputs": [],
   "source": [
    "mars_hemi_soup = bs(mars_hemi_browser.html, 'html.parser')"
   ]
  },
  {
   "cell_type": "code",
   "execution_count": 21,
   "metadata": {},
   "outputs": [],
   "source": [
    "div_hemi = mars_hemi_soup.find_all('div', {'class':'item'})"
   ]
  },
  {
   "cell_type": "code",
   "execution_count": 22,
   "metadata": {},
   "outputs": [],
   "source": [
    "def getFullHemiImage(site_url, img_name):\n",
    "    browser = Browser('chrome', headless=True)\n",
    "    browser.visit(site_url + img_name)\n",
    "    \n",
    "    bSoup = bs(browser.html, 'html.parser')\n",
    "    \n",
    "    imageList = bSoup.find_all('li')\n",
    "    \n",
    "    return site_url + imageList[0].a['href']"
   ]
  },
  {
   "cell_type": "code",
   "execution_count": 23,
   "metadata": {},
   "outputs": [],
   "source": [
    "hemisphere_image_urls = []\n",
    "\n",
    "for divItem in div_hemi:\n",
    "    #print('div: ', divItem.a['href'])\n",
    "    #print('Title: ', divItem.h3.text)\n",
    "    imageUrl = getFullHemiImage(mars_hemi_url, divItem.a['href'])\n",
    "    #print('Image URL: ', imageUrl)\n",
    "    row = {'title': divItem.h3.text, 'img_url': imageUrl}\n",
    "    hemisphere_image_urls.append(row)"
   ]
  },
  {
   "cell_type": "code",
   "execution_count": 24,
   "metadata": {},
   "outputs": [
    {
     "data": {
      "text/plain": [
       "[{'title': 'Cerberus Hemisphere Enhanced',\n",
       "  'img_url': 'https://marshemispheres.com/images/full.jpg'},\n",
       " {'title': 'Schiaparelli Hemisphere Enhanced',\n",
       "  'img_url': 'https://marshemispheres.com/images/schiaparelli_enhanced-full.jpg'},\n",
       " {'title': 'Syrtis Major Hemisphere Enhanced',\n",
       "  'img_url': 'https://marshemispheres.com/images/syrtis_major_enhanced-full.jpg'},\n",
       " {'title': 'Valles Marineris Hemisphere Enhanced',\n",
       "  'img_url': 'https://marshemispheres.com/images/valles_marineris_enhanced-full.jpg'}]"
      ]
     },
     "execution_count": 24,
     "metadata": {},
     "output_type": "execute_result"
    }
   ],
   "source": [
    "hemisphere_image_urls"
   ]
  },
  {
   "cell_type": "code",
   "execution_count": null,
   "metadata": {},
   "outputs": [],
   "source": []
  }
 ],
 "metadata": {
  "kernelspec": {
   "display_name": "PythonData38",
   "language": "python",
   "name": "pythondata38"
  },
  "language_info": {
   "codemirror_mode": {
    "name": "ipython",
    "version": 3
   },
   "file_extension": ".py",
   "mimetype": "text/x-python",
   "name": "python",
   "nbconvert_exporter": "python",
   "pygments_lexer": "ipython3",
   "version": "3.8.13"
  },
  "vscode": {
   "interpreter": {
    "hash": "9ffbb3209fd6bfbf3570a708edf1fb293234a2769453d64fdeae2dce835c1c0a"
   }
  }
 },
 "nbformat": 4,
 "nbformat_minor": 2
}
