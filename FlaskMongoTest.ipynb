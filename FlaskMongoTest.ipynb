{
 "cells": [
  {
   "cell_type": "code",
   "execution_count": 1,
   "id": "16c066b9",
   "metadata": {},
   "outputs": [],
   "source": [
    "from flask import Flask, render_template, redirect\n",
    "from flask_pymongo import PyMongo\n",
    "import scrape_mars"
   ]
  },
  {
   "cell_type": "code",
   "execution_count": null,
   "id": "05461ffc",
   "metadata": {},
   "outputs": [],
   "source": [
    "app = Flask(__name__)\n"
   ]
  },
  {
   "cell_type": "code",
   "execution_count": null,
   "id": "f04f8ea3",
   "metadata": {},
   "outputs": [],
   "source": [
    "# Use flask_pymongo to set up mongo connection\n",
    "app.config[\"MONGO_URI\"] = \"mongodb://localhost:27017/web_scrape_data\"\n",
    "mongo = PyMongo(app)\n"
   ]
  },
  {
   "cell_type": "code",
   "execution_count": null,
   "id": "7718b2fd",
   "metadata": {},
   "outputs": [],
   "source": [
    "@app.route(\"/\")\n",
    "def home():\n",
    "    scrap_data = mongo.db.nasaData.find_one()\n",
    "    return render_template(\"index.html\", listings=scrap_data)"
   ]
  },
  {
   "cell_type": "code",
   "execution_count": null,
   "id": "dad35245",
   "metadata": {},
   "outputs": [],
   "source": [
    "@app.route(\"/scrape\")\n",
    "def scraper():\n",
    "    nasatable = mongo.db.nasaData\n",
    "    mongo.db.nasaData.drop()\n",
    "    listings_data = scrape_mars.scrape()\n",
    "    nasatable.update_one({}, {\"$set\": listings_data}, upsert=True)\n",
    "    return redirect(\"/\")"
   ]
  },
  {
   "cell_type": "code",
   "execution_count": null,
   "id": "575aaa1d",
   "metadata": {},
   "outputs": [],
   "source": [
    "if __name__ == \"__main__\":\n",
    "    app.run(debug=True)"
   ]
  },
  {
   "cell_type": "code",
   "execution_count": 4,
   "id": "d74bba0f",
   "metadata": {},
   "outputs": [
    {
     "name": "stdout",
     "output_type": "stream",
     "text": [
      "{'redplanet_info': [{'ArticleTitle': \"NASA's Mars 2020 Will Hunt for Microscopic Fossils\", 'ArticleDate': 'September 27, 2022', 'SummaryText': \"A new paper identifies a ring of minerals at the rover's landing site that are ideal for fossilizing microbial life.\", 'Image': 'https://mars.nasa.gov/system/news_items/list_view_images/8549_PIA23511-320x240.jpg'}, {'ArticleTitle': 'MOXIE Could Help Future Rockets Launch Off Mars', 'ArticleDate': 'September 26, 2022', 'SummaryText': \"NASA's Perseverance rover carries a device to convert Martian air into oxygen that, if produced on a larger scale, could be used not just for breathing, but also for fuel.\", 'Image': 'https://mars.nasa.gov/system/news_items/list_view_images/8805_1-MOXIE-PIA24176-320.gif'}, {'ArticleTitle': 'New Selfie Shows Curiosity, the Mars Chemist', 'ArticleDate': 'September 24, 2022', 'SummaryText': 'The NASA rover performed a special chemistry experiment at the location captured in its newest self-portrait.', 'Image': 'https://mars.nasa.gov/system/news_items/list_view_images/8536_Mars_chemist_320x240px.jpg'}, {'ArticleTitle': 'Independent Review Indicates NASA Prepared for Mars Sample Return Campaign', 'ArticleDate': 'September 22, 2022', 'SummaryText': 'NASA released an independent review report Tuesday indicating the agency is well positioned for its Mars Sample Return campaign to bring pristine samples from Mars to Earth for scientific study.', 'Image': 'https://mars.nasa.gov/system/news_items/list_view_images/8794_PIA23496-320.jpg'}, {'ArticleTitle': \"Common Questions about InSight's 'Mole'\", 'ArticleDate': 'September 21, 2022', 'SummaryText': 'The following Q&As with members of the team answer some of the most common questions about the burrowing device, part of a science instrument called the Heat Flow and Physical Properties Package (HP3).', 'Image': 'https://mars.nasa.gov/system/news_items/list_view_images/8444_Sol427-437_backcap_push_positioning-320x240.gif'}, {'ArticleTitle': \"NASA Engineers Checking InSight's Weather Sensors\", 'ArticleDate': 'September 18, 2022', 'SummaryText': 'An electronics issue is suspected to be preventing the sensors from sharing their data about Mars weather with the spacecraft.', 'Image': 'https://mars.nasa.gov/system/news_items/list_view_images/8744_PIA22957-226.jpg'}, {'ArticleTitle': 'Mars Scientists Investigate Ancient Life in Australia', 'ArticleDate': 'September 16, 2022', 'SummaryText': \"Teams with NASA's Mars 2020 and ESA's ExoMars practiced hunting for fossilized microbial life in the Australian Outback in preparation for their Red Planet missions. \", 'Image': 'https://mars.nasa.gov/system/news_items/list_view_images/8551_PIA23551-320x240.jpg'}, {'ArticleTitle': \"The Launch Is Approaching for NASA's Next Mars Rover, Perseverance\", 'ArticleDate': 'September 14, 2022', 'SummaryText': \"The Red Planet's surface has been visited by eight NASA spacecraft. The ninth will be the first that includes a roundtrip ticket in its flight plan. \", 'Image': 'https://mars.nasa.gov/system/news_items/list_view_images/8695_24732_PIA23499-226.jpg'}, {'ArticleTitle': \"HiRISE Views NASA's InSight and Curiosity on Mars\", 'ArticleDate': 'September 13, 2022', 'SummaryText': 'New images taken from space offer the clearest orbital glimpse yet of InSight as well as a view of Curiosity rolling along.', 'Image': 'https://mars.nasa.gov/system/news_items/list_view_images/8528_PIA23376-320x240.jpg'}, {'ArticleTitle': \"A Year of Surprising Science From NASA's InSight Mars Mission\", 'ArticleDate': 'September 11, 2022', 'SummaryText': \"A batch of new papers summarizes the lander's findings above and below the surface of the Red Planet.\", 'Image': 'https://mars.nasa.gov/system/news_items/list_view_images/8613_InSight-Nature-papers-320x240.jpg'}, {'ArticleTitle': 'NASA Prepares for Moon and Mars With New Addition to Its Deep Space Network', 'ArticleDate': 'September 9, 2022', 'SummaryText': 'Robotic spacecraft will be able to communicate with the dish using radio waves and lasers.', 'Image': 'https://mars.nasa.gov/system/news_items/list_view_images/8606_list_image.jpg'}, {'ArticleTitle': 'NASA Mars Mission Connects With Bosnian and Herzegovinian Town', 'ArticleDate': 'September 7, 2022', 'SummaryText': 'A letter from NASA was presented to the mayor of Jezero, Bosnia-Herzegovina, honoring the connection between the town and Jezero Crater, the Mars 2020 rover landing site.', 'Image': 'https://mars.nasa.gov/system/news_items/list_view_images/8512_PIA23463-320x240.jpg'}, {'ArticleTitle': 'Mars 2020 Stands on Its Own Six Wheels', 'ArticleDate': 'September 6, 2022', 'SummaryText': \"In time-lapse video, taken at JPL, captures the first time NASA's Mars 2020 rover carries its full weight on its legs and wheels.\", 'Image': 'https://mars.nasa.gov/system/news_items/list_view_images/8537_PIA23468-16_320x240px.jpg'}, {'ArticleTitle': \"The Extraordinary Sample-Gathering System of NASA's Perseverance Mars Rover\", 'ArticleDate': 'September 4, 2022', 'SummaryText': 'Two astronauts collected Moon rocks on Apollo 11. It will take three robotic systems working together to gather up the first Mars rock samples for return to Earth.', 'Image': 'https://mars.nasa.gov/system/news_items/list_view_images/8682_SCS-16-MAIN-320.jpg'}, {'ArticleTitle': 'NASA to Hold Mars 2020 Perseverance Rover Launch Briefing', 'ArticleDate': 'September 3, 2022', 'SummaryText': \"Learn more about the agency's next Red Planet mission during a live event on June 17.\", 'Image': 'https://mars.nasa.gov/system/news_items/list_view_images/8692_PIA23920-320x240.jpg'}], 'featured_image': 'https://spaceimages-mars.com/image/featured/mars1.jpg', 'earth_mars_facts': '{\"0\":{\"0\":\"Mars - Earth Comparison\",\"1\":\"Diameter:\",\"2\":\"Mass:\",\"3\":\"Moons:\",\"4\":\"Distance from Sun:\",\"5\":\"Length of Year:\",\"6\":\"Temperature:\"},\"1\":{\"0\":\"Mars\",\"1\":\"6,779 km\",\"2\":\"6.39 \\\\u00d7 10^23 kg\",\"3\":\"2\",\"4\":\"227,943,824 km\",\"5\":\"687 Earth days\",\"6\":\"-87 to -5 \\\\u00b0C\"},\"2\":{\"0\":\"Earth\",\"1\":\"12,742 km\",\"2\":\"5.97 \\\\u00d7 10^24 kg\",\"3\":\"1\",\"4\":\"149,598,262 km\",\"5\":\"365.24 days\",\"6\":\"-88 to 58\\\\u00b0C\"}}', 'hemispheres': [{'title': 'Cerberus Hemisphere Enhanced', 'img_url': 'https://marshemispheres.com/images/full.jpg'}, {'title': 'Schiaparelli Hemisphere Enhanced', 'img_url': 'https://marshemispheres.com/images/schiaparelli_enhanced-full.jpg'}, {'title': 'Syrtis Major Hemisphere Enhanced', 'img_url': 'https://marshemispheres.com/images/syrtis_major_enhanced-full.jpg'}, {'title': 'Valles Marineris Hemisphere Enhanced', 'img_url': 'https://marshemispheres.com/images/valles_marineris_enhanced-full.jpg'}]}\n"
     ]
    }
   ],
   "source": [
    "returnItem = scrape_mars.scrape()"
   ]
  },
  {
   "cell_type": "code",
   "execution_count": 3,
   "id": "a03cd086",
   "metadata": {},
   "outputs": [
    {
     "name": "stdout",
     "output_type": "stream",
     "text": [
      "{'redplanet_info': [{'ArticleTitle': \"How NASA's Perseverance Mars Team Adjusted to Work in the Time of Coronavirus \", 'ArticleDate': 'September 27, 2022', 'SummaryText': 'Like much of the rest of the world, the Mars rover team is pushing forward with its mission-critical work while putting the health and safety of their colleagues and community first.', 'Image': 'https://mars.nasa.gov/system/news_items/list_view_images/8654_MAIN-IMAGE-PIA23881-320x240.jpg'}, {'ArticleTitle': \"NASA's Perseverance Rover Mission Getting in Shape for Launch\", 'ArticleDate': 'September 26, 2022', 'SummaryText': 'Stacking spacecraft components on top of each other is one of the final assembly steps before a mission launches to the Red Planet. ', 'Image': 'https://mars.nasa.gov/system/news_items/list_view_images/8657_1-PIA23884-320x240.jpg'}, {'ArticleTitle': \"NASA's Curiosity Mars Rover Snaps Its Highest-Resolution Panorama Yet\", 'ArticleDate': 'September 24, 2022', 'SummaryText': 'To go along with the stunning 1.8-billion-pixel image, a new video offers a sweeping view of the Red Planet.', 'Image': 'https://mars.nasa.gov/system/news_items/list_view_images/8621_sol2597_2600_mosaic-320x240.jpg'}, {'ArticleTitle': \"NASA's Mars Reconnaissance Orbiter Undergoes Memory Update\", 'ArticleDate': 'September 20, 2022', 'SummaryText': 'Other orbiters will continue relaying data from Mars surface missions for a two-week period.', 'Image': 'https://mars.nasa.gov/system/news_items/list_view_images/8609_list_image.jpg'}, {'ArticleTitle': \"What's Mars Solar Conjunction, and Why Does It Matter?\", 'ArticleDate': 'September 19, 2022', 'SummaryText': 'NASA spacecraft at Mars are going to be on their own for a few weeks when the Sun comes between Mars and Earth, interrupting communications.', 'Image': 'https://mars.nasa.gov/system/news_items/list_view_images/8506_mars-solar-conjunction-th.jpg'}, {'ArticleTitle': \"NASA's Curiosity Mars Rover Takes a New Selfie Before Record Climb\", 'ArticleDate': 'September 13, 2022', 'SummaryText': 'Along with capturing an image before its steepest ascent ever, the robotic explorer filmed its \"selfie stick,\" or robotic arm, in action.', 'Image': 'https://mars.nasa.gov/system/news_items/list_view_images/8631_PIA23624_hutton-selfie-320x240.jpg'}, {'ArticleTitle': \"6 Things to Know About NASA's Ingenuity Mars Helicopter\", 'ArticleDate': 'September 11, 2022', 'SummaryText': 'The first helicopter attempting to fly on another planet is a marvel of engineering. Get up to speed with these key facts about its plans.', 'Image': 'https://mars.nasa.gov/system/news_items/list_view_images/8712_PIA23720-320x240.jpg'}, {'ArticleTitle': 'My Culture, My Voice', 'ArticleDate': 'September 11, 2022', 'SummaryText': 'In honor of Hispanic Heritage Month, Christina Hernandez, an instrument engineer on the Mars 2020 mission, talks about her childhood and journey to NASA.', 'Image': 'https://mars.nasa.gov/system/news_items/list_view_images/8756_25254_Christina_hernandez_mainmax-320x240.png'}, {'ArticleTitle': \"The Extraordinary Sample-Gathering System of NASA's Perseverance Mars Rover\", 'ArticleDate': 'September 7, 2022', 'SummaryText': 'Two astronauts collected Moon rocks on Apollo 11. It will take three robotic systems working together to gather up the first Mars rock samples for return to Earth.', 'Image': 'https://mars.nasa.gov/system/news_items/list_view_images/8682_SCS-16-MAIN-320.jpg'}, {'ArticleTitle': 'Naming a NASA Mars Rover Can Change Your Life', 'ArticleDate': 'September 6, 2022', 'SummaryText': 'Want to name the robotic scientist NASA is sending to Mars in 2020? The student who named Curiosity — the rover currently exploring Mars — will tell you this is an opportunity worth taking.', 'Image': 'https://mars.nasa.gov/system/news_items/list_view_images/8534_20191022_ClaraMa_compare-320x240.jpg'}, {'ArticleTitle': \"NASA InSight's 'Mole' Is Out of Sight\", 'ArticleDate': 'September 4, 2022', 'SummaryText': \"Now that the heat probe is just below the Martian surface, InSight's arm will scoop some additional soil on top to help it keep digging so it can take Mars' temperature.\", 'Image': 'https://mars.nasa.gov/system/news_items/list_view_images/8776_PIA24098-320.gif'}, {'ArticleTitle': \"A Year of Surprising Science From NASA's InSight Mars Mission\", 'ArticleDate': 'September 4, 2022', 'SummaryText': \"A batch of new papers summarizes the lander's findings above and below the surface of the Red Planet.\", 'Image': 'https://mars.nasa.gov/system/news_items/list_view_images/8613_InSight-Nature-papers-320x240.jpg'}, {'ArticleTitle': 'NASA to Broadcast Mars 2020 Perseverance Launch, Prelaunch Activities', 'ArticleDate': 'September 3, 2022', 'SummaryText': 'Starting July 27, news activities will cover everything from mission engineering and science to returning samples from Mars to, of course, the launch itself.', 'Image': 'https://mars.nasa.gov/system/news_items/list_view_images/8716_PIA23499-320x240.jpg'}, {'ArticleTitle': 'NASA Perseverance Mars Rover Scientists Train in the Nevada Desert', 'ArticleDate': 'September 1, 2022', 'SummaryText': \"Team members searched for signs of ancient microscopic life there, just as NASA's latest rover will on the Red Planet next year.\", 'Image': 'https://mars.nasa.gov/system/news_items/list_view_images/8666_PIA23776-main-320x240.jpg'}, {'ArticleTitle': \"NASA's Curiosity Takes Selfie With 'Mary Anning' on the Red Planet\", 'ArticleDate': 'August 29, 2022', 'SummaryText': 'The Mars rover has drilled three samples of rock in this clay-enriched region since arriving in July.', 'Image': 'https://mars.nasa.gov/system/news_items/list_view_images/8796_PIA24173-320.jpg'}], 'featured_image': 'https://spaceimages-mars.com/image/featured/mars2.jpg', 'earth_mars_facts': '{\"0\":{\"0\":\"Mars - Earth Comparison\",\"1\":\"Diameter:\",\"2\":\"Mass:\",\"3\":\"Moons:\",\"4\":\"Distance from Sun:\",\"5\":\"Length of Year:\",\"6\":\"Temperature:\"},\"1\":{\"0\":\"Mars\",\"1\":\"6,779 km\",\"2\":\"6.39 \\\\u00d7 10^23 kg\",\"3\":\"2\",\"4\":\"227,943,824 km\",\"5\":\"687 Earth days\",\"6\":\"-87 to -5 \\\\u00b0C\"},\"2\":{\"0\":\"Earth\",\"1\":\"12,742 km\",\"2\":\"5.97 \\\\u00d7 10^24 kg\",\"3\":\"1\",\"4\":\"149,598,262 km\",\"5\":\"365.24 days\",\"6\":\"-88 to 58\\\\u00b0C\"}}', 'hemispheres': [{'title': 'Cerberus Hemisphere Enhanced', 'img_url': 'https://marshemispheres.com/images/full.jpg'}, {'title': 'Schiaparelli Hemisphere Enhanced', 'img_url': 'https://marshemispheres.com/images/schiaparelli_enhanced-full.jpg'}, {'title': 'Syrtis Major Hemisphere Enhanced', 'img_url': 'https://marshemispheres.com/images/syrtis_major_enhanced-full.jpg'}, {'title': 'Valles Marineris Hemisphere Enhanced', 'img_url': 'https://marshemispheres.com/images/valles_marineris_enhanced-full.jpg'}]}\n"
     ]
    }
   ],
   "source": [
    "print(returnItem)"
   ]
  },
  {
   "cell_type": "code",
   "execution_count": null,
   "id": "3da0c0b7",
   "metadata": {},
   "outputs": [],
   "source": [
    "list1 = ['a','b','c','d']"
   ]
  },
  {
   "cell_type": "code",
   "execution_count": null,
   "id": "7e8dd63c",
   "metadata": {},
   "outputs": [],
   "source": [
    "list1"
   ]
  },
  {
   "cell_type": "code",
   "execution_count": null,
   "id": "58589084",
   "metadata": {},
   "outputs": [],
   "source": [
    "dict1 = {1: 'a', 2:'b',4: 'c','z':'z','abc':list1}"
   ]
  },
  {
   "cell_type": "code",
   "execution_count": null,
   "id": "50537620",
   "metadata": {},
   "outputs": [],
   "source": [
    "dict1"
   ]
  },
  {
   "cell_type": "code",
   "execution_count": null,
   "id": "dd9e24a9",
   "metadata": {},
   "outputs": [],
   "source": [
    "dict1['abc'][1]"
   ]
  },
  {
   "cell_type": "code",
   "execution_count": null,
   "id": "cb1f7465",
   "metadata": {},
   "outputs": [],
   "source": [
    "dict1[3]"
   ]
  },
  {
   "cell_type": "code",
   "execution_count": null,
   "id": "27b8f0de",
   "metadata": {},
   "outputs": [],
   "source": [
    "dict1[4]"
   ]
  },
  {
   "cell_type": "code",
   "execution_count": null,
   "id": "edbaa7d5",
   "metadata": {},
   "outputs": [],
   "source": [
    "dict1[2]"
   ]
  },
  {
   "cell_type": "code",
   "execution_count": null,
   "id": "fff46eb9",
   "metadata": {},
   "outputs": [],
   "source": [
    "list1[1]"
   ]
  },
  {
   "cell_type": "code",
   "execution_count": null,
   "id": "8c3676cf",
   "metadata": {},
   "outputs": [],
   "source": [
    "list1[0]"
   ]
  },
  {
   "cell_type": "code",
   "execution_count": null,
   "id": "e85c71e2",
   "metadata": {},
   "outputs": [],
   "source": [
    "list1[2]"
   ]
  },
  {
   "cell_type": "code",
   "execution_count": null,
   "id": "88f6d7de",
   "metadata": {},
   "outputs": [],
   "source": [
    "list1[3]"
   ]
  },
  {
   "cell_type": "code",
   "execution_count": null,
   "id": "e989c9ce",
   "metadata": {},
   "outputs": [],
   "source": [
    "list1[4]"
   ]
  },
  {
   "cell_type": "code",
   "execution_count": null,
   "id": "85dfbc82",
   "metadata": {},
   "outputs": [],
   "source": [
    "dict2 = {'abc': 'Test1','bcd':'test2'}\n",
    "dict3 = {'abc': 'Test2', 'bcd': 'test3'}\n",
    "list2 = [dict2, dict3]"
   ]
  },
  {
   "cell_type": "code",
   "execution_count": null,
   "id": "e44eae9e",
   "metadata": {},
   "outputs": [],
   "source": [
    "list2"
   ]
  },
  {
   "cell_type": "code",
   "execution_count": null,
   "id": "d6a28b71",
   "metadata": {},
   "outputs": [],
   "source": [
    "list2[0]['abc']"
   ]
  },
  {
   "cell_type": "code",
   "execution_count": null,
   "id": "0070eb0f",
   "metadata": {},
   "outputs": [],
   "source": [
    "list2[0]['bcd']"
   ]
  },
  {
   "cell_type": "code",
   "execution_count": null,
   "id": "1ba2dfc3",
   "metadata": {},
   "outputs": [],
   "source": [
    "list2[1]['bcd']"
   ]
  },
  {
   "cell_type": "code",
   "execution_count": null,
   "id": "6c81e4a2",
   "metadata": {},
   "outputs": [],
   "source": [
    "dict3['new'] = 'xyz'"
   ]
  },
  {
   "cell_type": "code",
   "execution_count": null,
   "id": "a694c1ed",
   "metadata": {},
   "outputs": [],
   "source": [
    "dict3"
   ]
  },
  {
   "cell_type": "code",
   "execution_count": null,
   "id": "6bd91b45",
   "metadata": {},
   "outputs": [],
   "source": []
  }
 ],
 "metadata": {
  "kernelspec": {
   "display_name": "PythonData38",
   "language": "python",
   "name": "pythondata38"
  },
  "language_info": {
   "codemirror_mode": {
    "name": "ipython",
    "version": 3
   },
   "file_extension": ".py",
   "mimetype": "text/x-python",
   "name": "python",
   "nbconvert_exporter": "python",
   "pygments_lexer": "ipython3",
   "version": "3.8.13"
  }
 },
 "nbformat": 4,
 "nbformat_minor": 5
}
